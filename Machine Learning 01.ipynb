{
 "cells": [
  {
   "cell_type": "code",
   "execution_count": 12,
   "id": "962a4745",
   "metadata": {},
   "outputs": [],
   "source": [
    "#numpy - multi-dimensional array\n",
    "#pandas - data analysis library which provides a data frame - 2D data structure like excel\n",
    "#Matplotlib - creating graphs and plot\n",
    "#scikit learn - popular machine learining library- decision trees, nueral networks ,etc\n",
    "#import data\n",
    "#clean data\n",
    "#drop column\n",
    "#train it\n",
    "#predict data"
   ]
  },
  {
   "cell_type": "code",
   "execution_count": 87,
   "id": "57eccdd9",
   "metadata": {},
   "outputs": [
    {
     "data": {
      "text/plain": [
       "0.5"
      ]
     },
     "execution_count": 87,
     "metadata": {},
     "output_type": "execute_result"
    }
   ],
   "source": [
    "import pandas as pd\n",
    "from sklearn.tree import DecisionTreeClassifier\n",
    "from sklearn.model_selection import train_test_split\n",
    "from sklearn.metrics import accuracy_score\n",
    "\n",
    "df = pd.read_csv('/Users/parinita/Documents/CSV-Files/music.csv')\n",
    "X = df.drop(columns=['genre'])\n",
    "y = df['genre']\n",
    "X_train, X_test, y_train, y_test = train_test_split(X,y,test_size=0.2)\n",
    "\n",
    "model = DecisionTreeClassifier()\n",
    "model.fit(X_train, y_train)\n",
    "predictions = model.predict(X_test)\n",
    "\n",
    "score = accuracy_score(y_test, predictions)\n",
    "score"
   ]
  },
  {
   "cell_type": "code",
   "execution_count": null,
   "id": "4951b8a5",
   "metadata": {},
   "outputs": [],
   "source": []
  }
 ],
 "metadata": {
  "kernelspec": {
   "display_name": "Python 3",
   "language": "python",
   "name": "python3"
  },
  "language_info": {
   "codemirror_mode": {
    "name": "ipython",
    "version": 3
   },
   "file_extension": ".py",
   "mimetype": "text/x-python",
   "name": "python",
   "nbconvert_exporter": "python",
   "pygments_lexer": "ipython3",
   "version": "3.8.8"
  }
 },
 "nbformat": 4,
 "nbformat_minor": 5
}
